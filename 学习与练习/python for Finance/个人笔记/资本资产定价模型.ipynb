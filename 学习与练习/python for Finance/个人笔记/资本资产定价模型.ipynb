{
 "cells": [
  {
   "cell_type": "raw",
   "metadata": {},
   "source": [
    "The market portfolio:A combination of all the possible investments in the world,the market portflio lies on the efficient frontier(有效边界）.\n",
    "The risk-free asset:The CAPM assumes the existence of a risk-free asset.An investment with zero risk.\n",
    "\n",
    "Why should we assume the risk-free rate has a lower expected rate of return？\n",
    "In efficient markets,investors are only compensated for the added risk they are willing to bear.\n",
    "Lower rate of return,lower risk\n",
    "Higher rate of return,higher risk\n",
    "investors invest = W1(risk-free)+W2(market portfolio) [资本市场线：连接纵轴上的零风险点与有效边界相切的线。相切的点是市场组合]\n",
    "\n",
    "Beta(β)：one of the main pillars of the CAPM.资本市场定价模型的主要支柱之一\n",
    "Beta help us quantify the relationship between a security and the overall market portfolio\n",
    "\n",
    "Safer stocks:These stocks will earn less than the market portfolio when the economy grows\n",
    "Riskier stocks:Stocks that will earn more than the market portfolio when the economy grows\n",
    "\n",
    "Measuring Beta:β=cov(Rx,Rm)/α²m 股票和市场的协方差/市场的方差\n",
    "Measures the market risk that cannot be avoided through diversification 测量了多样化所不可避免的市场风险\n",
    "\n",
    "The relationship between a stock and the market:\n",
    "no relationship:β= 0 没有关系\n",
    "defensive:β< 1 防御性，市场下降，损失较小\n",
    "aggress:β> 1 =1市场表现相同，>1比市场反应更激烈\n",
    "\n",
    "Some companies are less dependent on the ecomomic cycle.Walmart's clients will continue to buy food and household products.\n",
    "Other companies like Ford are impacted more significantly.In times of recession people are unwilling to bug new cars and are willing to postpone such purchases.\n",
    "Walmart β= 0.9\n",
    "Ford β=1.1"
   ]
  },
  {
   "cell_type": "code",
   "execution_count": 1,
   "metadata": {},
   "outputs": [],
   "source": [
    "import numpy as np\n",
    "import pandas as pd\n",
    "from pandas_datareader import data as wb\n",
    "\n",
    "tickers = ['PG','^GSPC']\n",
    "data = pd.DataFrame()\n",
    "for t in tickers:\n",
    "    data[t] = wb.DataReader(t, data_source = 'yahoo',start='2012-1-1',end='2016-12-31')['Adj Close']"
   ]
  },
  {
   "cell_type": "code",
   "execution_count": 2,
   "metadata": {},
   "outputs": [],
   "source": [
    "sec_returns = np.log(data/data.shift(1))  "
   ]
  },
  {
   "cell_type": "code",
   "execution_count": 3,
   "metadata": {},
   "outputs": [
    {
     "data": {
      "text/html": [
       "<div>\n",
       "<style scoped>\n",
       "    .dataframe tbody tr th:only-of-type {\n",
       "        vertical-align: middle;\n",
       "    }\n",
       "\n",
       "    .dataframe tbody tr th {\n",
       "        vertical-align: top;\n",
       "    }\n",
       "\n",
       "    .dataframe thead th {\n",
       "        text-align: right;\n",
       "    }\n",
       "</style>\n",
       "<table border=\"1\" class=\"dataframe\">\n",
       "  <thead>\n",
       "    <tr style=\"text-align: right;\">\n",
       "      <th></th>\n",
       "      <th>PG</th>\n",
       "      <th>^GSPC</th>\n",
       "    </tr>\n",
       "  </thead>\n",
       "  <tbody>\n",
       "    <tr>\n",
       "      <th>PG</th>\n",
       "      <td>0.020409</td>\n",
       "      <td>0.010078</td>\n",
       "    </tr>\n",
       "    <tr>\n",
       "      <th>^GSPC</th>\n",
       "      <td>0.010078</td>\n",
       "      <td>0.016362</td>\n",
       "    </tr>\n",
       "  </tbody>\n",
       "</table>\n",
       "</div>"
      ],
      "text/plain": [
       "             PG     ^GSPC\n",
       "PG     0.020409  0.010078\n",
       "^GSPC  0.010078  0.016362"
      ]
     },
     "execution_count": 3,
     "metadata": {},
     "output_type": "execute_result"
    }
   ],
   "source": [
    "cov = sec_returns.cov()*250\n",
    "cov # PG和SP500的协方差"
   ]
  },
  {
   "cell_type": "code",
   "execution_count": 4,
   "metadata": {},
   "outputs": [
    {
     "data": {
      "text/plain": [
       "0.010078082807976336"
      ]
     },
     "execution_count": 4,
     "metadata": {},
     "output_type": "execute_result"
    }
   ],
   "source": [
    "cov_with_market = cov.iloc[0,1]\n",
    "cov_with_market # PG和SP500的协方差浮点数"
   ]
  },
  {
   "cell_type": "code",
   "execution_count": 5,
   "metadata": {},
   "outputs": [
    {
     "data": {
      "text/plain": [
       "0.020409167078261688"
      ]
     },
     "execution_count": 5,
     "metadata": {},
     "output_type": "execute_result"
    }
   ],
   "source": [
    "cov_with_PG = cov.iloc[0,0]\n",
    "cov_with_PG "
   ]
  },
  {
   "cell_type": "code",
   "execution_count": 6,
   "metadata": {},
   "outputs": [
    {
     "data": {
      "text/plain": [
       "0.016361631002308474"
      ]
     },
     "execution_count": 6,
     "metadata": {},
     "output_type": "execute_result"
    }
   ],
   "source": [
    "market_var = sec_returns['^GSPC'].var()*250\n",
    "market_var #SP500的方差"
   ]
  },
  {
   "cell_type": "code",
   "execution_count": 8,
   "metadata": {},
   "outputs": [
    {
     "data": {
      "text/plain": [
       "0.6159583238709155"
      ]
     },
     "execution_count": 8,
     "metadata": {},
     "output_type": "execute_result"
    }
   ],
   "source": [
    "PG_beta = cov_with_market/market_var\n",
    "PG_beta  #0.6159583238709155意味着PG是防御型股票"
   ]
  },
  {
   "cell_type": "markdown",
   "metadata": {},
   "source": [
    "The Capital Asset Pricing Model: \n",
    "Ri = Rf + βim(Rm-Rf)\n",
    "一个证券的期望收益=0风险资产加上beta乘以（市场期望收益-0风险资产的收益）\n",
    "Rf - risk free\n",
    "βim - beta between the stock and the market\n",
    "Rm - market return\n",
    "\n",
    "Applying the CAPM in practice：\n",
    "Risk-free：Approximate with 10year US government bond 2.5%\n",
    "Beta: Approximate the market portfolio with the S&P500:0.62\n",
    "Equity Risk Premium: Historically,it has been between 4.5% and 5,5%\n",
    "PG的期望收益：R(i) = 2.5% + 0.62*5% = 5.6% 但一个投资者购买PG的股票，他可以为他所承担的风险预期5.6%的获利"
   ]
  },
  {
   "cell_type": "markdown",
   "metadata": {},
   "source": [
    "Calculate the expected return of P&G(CAPM):\n",
    "Rpg = Rf + βpg(Rm - Rf) 其β值和风险溢价的乘积\n",
    "Rf 右边的变量是0风险率"
   ]
  },
  {
   "cell_type": "code",
   "execution_count": 10,
   "metadata": {},
   "outputs": [
    {
     "data": {
      "text/plain": [
       "0.05579791619354578"
      ]
     },
     "execution_count": 10,
     "metadata": {},
     "output_type": "execute_result"
    }
   ],
   "source": [
    "PG_er = 0.025 + PG_beta*0.05\n",
    "PG_er"
   ]
  },
  {
   "cell_type": "markdown",
   "metadata": {},
   "source": [
    "Rational investors want to maximize their returns\n",
    "Rational investors want to minimize their risk and hence invest in less volatile securities\n",
    "Ratinaol investors want to be able to compare stocks in terms of risk-return performance\n",
    "——夏普比率 Sharpe ratio\n",
    "\n",
    "Sharpe ratio = (Ri-Rf)/σi\n",
    "Ri：risk-free rate\n",
    "Rf：rate of return of the stock 'i'\n",
    "σi：standard deviation of the stock 'i'\n",
    "（ 分子：超额收益股票-零分析收益   分母：股票的标准差）"
   ]
  },
  {
   "cell_type": "code",
   "execution_count": 11,
   "metadata": {},
   "outputs": [
    {
     "data": {
      "text/plain": [
       "17.043104269729586"
      ]
     },
     "execution_count": 11,
     "metadata": {},
     "output_type": "execute_result"
    }
   ],
   "source": [
    "Sharpe = (PG_er - 0.025)/(sec_returns['PG'].std()*250**0/5)\n",
    "Sharpe"
   ]
  },
  {
   "cell_type": "markdown",
   "metadata": {},
   "source": [
    "衡量α系数(CAPM模型的截距）以及验证一个投资经理的能力的方法\n",
    "Ri = α+ Rf + βim(Rm-Rf)"
   ]
  }
 ],
 "metadata": {
  "kernelspec": {
   "display_name": "Python 3",
   "language": "python",
   "name": "python3"
  },
  "language_info": {
   "codemirror_mode": {
    "name": "ipython",
    "version": 3
   },
   "file_extension": ".py",
   "mimetype": "text/x-python",
   "name": "python",
   "nbconvert_exporter": "python",
   "pygments_lexer": "ipython3",
   "version": "3.7.0"
  }
 },
 "nbformat": 4,
 "nbformat_minor": 2
}
