{
 "cells": [
  {
   "cell_type": "code",
   "execution_count": 1,
   "metadata": {},
   "outputs": [],
   "source": [
    "import numpy as np\n",
    "from pandas_datareader import data as wb\n",
    "import matplotlib.pyplot as plt"
   ]
  },
  {
   "cell_type": "code",
   "execution_count": 2,
   "metadata": {},
   "outputs": [],
   "source": [
    "PG = wb.DataReader('PG', data_source='yahoo', start='2015-1-1')"
   ]
  },
  {
   "cell_type": "code",
   "execution_count": 3,
   "metadata": {},
   "outputs": [
    {
     "data": {
      "text/html": [
       "<div>\n",
       "<style scoped>\n",
       "    .dataframe tbody tr th:only-of-type {\n",
       "        vertical-align: middle;\n",
       "    }\n",
       "\n",
       "    .dataframe tbody tr th {\n",
       "        vertical-align: top;\n",
       "    }\n",
       "\n",
       "    .dataframe thead th {\n",
       "        text-align: right;\n",
       "    }\n",
       "</style>\n",
       "<table border=\"1\" class=\"dataframe\">\n",
       "  <thead>\n",
       "    <tr style=\"text-align: right;\">\n",
       "      <th></th>\n",
       "      <th>High</th>\n",
       "      <th>Low</th>\n",
       "      <th>Open</th>\n",
       "      <th>Close</th>\n",
       "      <th>Volume</th>\n",
       "      <th>Adj Close</th>\n",
       "    </tr>\n",
       "    <tr>\n",
       "      <th>Date</th>\n",
       "      <th></th>\n",
       "      <th></th>\n",
       "      <th></th>\n",
       "      <th></th>\n",
       "      <th></th>\n",
       "      <th></th>\n",
       "    </tr>\n",
       "  </thead>\n",
       "  <tbody>\n",
       "    <tr>\n",
       "      <th>2014-12-31</th>\n",
       "      <td>92.550003</td>\n",
       "      <td>91.029999</td>\n",
       "      <td>92.040001</td>\n",
       "      <td>91.089996</td>\n",
       "      <td>5712100.0</td>\n",
       "      <td>77.802925</td>\n",
       "    </tr>\n",
       "    <tr>\n",
       "      <th>2015-01-02</th>\n",
       "      <td>91.000000</td>\n",
       "      <td>89.919998</td>\n",
       "      <td>90.839996</td>\n",
       "      <td>90.440002</td>\n",
       "      <td>7251400.0</td>\n",
       "      <td>77.247726</td>\n",
       "    </tr>\n",
       "    <tr>\n",
       "      <th>2015-01-05</th>\n",
       "      <td>91.000000</td>\n",
       "      <td>89.849998</td>\n",
       "      <td>90.230003</td>\n",
       "      <td>90.010002</td>\n",
       "      <td>8626100.0</td>\n",
       "      <td>76.880455</td>\n",
       "    </tr>\n",
       "    <tr>\n",
       "      <th>2015-01-06</th>\n",
       "      <td>90.559998</td>\n",
       "      <td>89.260002</td>\n",
       "      <td>90.309998</td>\n",
       "      <td>89.599998</td>\n",
       "      <td>7791200.0</td>\n",
       "      <td>76.530251</td>\n",
       "    </tr>\n",
       "    <tr>\n",
       "      <th>2015-01-07</th>\n",
       "      <td>90.370003</td>\n",
       "      <td>89.559998</td>\n",
       "      <td>89.940002</td>\n",
       "      <td>90.070000</td>\n",
       "      <td>5986600.0</td>\n",
       "      <td>76.931709</td>\n",
       "    </tr>\n",
       "  </tbody>\n",
       "</table>\n",
       "</div>"
      ],
      "text/plain": [
       "                 High        Low       Open      Close     Volume  Adj Close\n",
       "Date                                                                        \n",
       "2014-12-31  92.550003  91.029999  92.040001  91.089996  5712100.0  77.802925\n",
       "2015-01-02  91.000000  89.919998  90.839996  90.440002  7251400.0  77.247726\n",
       "2015-01-05  91.000000  89.849998  90.230003  90.010002  8626100.0  76.880455\n",
       "2015-01-06  90.559998  89.260002  90.309998  89.599998  7791200.0  76.530251\n",
       "2015-01-07  90.370003  89.559998  89.940002  90.070000  5986600.0  76.931709"
      ]
     },
     "execution_count": 3,
     "metadata": {},
     "output_type": "execute_result"
    }
   ],
   "source": [
    "PG.head()"
   ]
  },
  {
   "cell_type": "code",
   "execution_count": 4,
   "metadata": {},
   "outputs": [
    {
     "data": {
      "text/html": [
       "<div>\n",
       "<style scoped>\n",
       "    .dataframe tbody tr th:only-of-type {\n",
       "        vertical-align: middle;\n",
       "    }\n",
       "\n",
       "    .dataframe tbody tr th {\n",
       "        vertical-align: top;\n",
       "    }\n",
       "\n",
       "    .dataframe thead th {\n",
       "        text-align: right;\n",
       "    }\n",
       "</style>\n",
       "<table border=\"1\" class=\"dataframe\">\n",
       "  <thead>\n",
       "    <tr style=\"text-align: right;\">\n",
       "      <th></th>\n",
       "      <th>High</th>\n",
       "      <th>Low</th>\n",
       "      <th>Open</th>\n",
       "      <th>Close</th>\n",
       "      <th>Volume</th>\n",
       "      <th>Adj Close</th>\n",
       "    </tr>\n",
       "    <tr>\n",
       "      <th>Date</th>\n",
       "      <th></th>\n",
       "      <th></th>\n",
       "      <th></th>\n",
       "      <th></th>\n",
       "      <th></th>\n",
       "      <th></th>\n",
       "    </tr>\n",
       "  </thead>\n",
       "  <tbody>\n",
       "    <tr>\n",
       "      <th>2020-01-03</th>\n",
       "      <td>123.529999</td>\n",
       "      <td>121.860001</td>\n",
       "      <td>122.160004</td>\n",
       "      <td>122.580002</td>\n",
       "      <td>7970500.0</td>\n",
       "      <td>122.580002</td>\n",
       "    </tr>\n",
       "    <tr>\n",
       "      <th>2020-01-06</th>\n",
       "      <td>123.190002</td>\n",
       "      <td>122.379997</td>\n",
       "      <td>122.570000</td>\n",
       "      <td>122.750000</td>\n",
       "      <td>6674400.0</td>\n",
       "      <td>122.750000</td>\n",
       "    </tr>\n",
       "    <tr>\n",
       "      <th>2020-01-07</th>\n",
       "      <td>123.209999</td>\n",
       "      <td>121.870003</td>\n",
       "      <td>122.879997</td>\n",
       "      <td>121.989998</td>\n",
       "      <td>7583400.0</td>\n",
       "      <td>121.989998</td>\n",
       "    </tr>\n",
       "    <tr>\n",
       "      <th>2020-01-08</th>\n",
       "      <td>123.430000</td>\n",
       "      <td>122.000000</td>\n",
       "      <td>122.190002</td>\n",
       "      <td>122.510002</td>\n",
       "      <td>5385100.0</td>\n",
       "      <td>122.510002</td>\n",
       "    </tr>\n",
       "    <tr>\n",
       "      <th>2020-01-09</th>\n",
       "      <td>123.879997</td>\n",
       "      <td>122.510002</td>\n",
       "      <td>122.510002</td>\n",
       "      <td>123.849998</td>\n",
       "      <td>5944000.0</td>\n",
       "      <td>123.849998</td>\n",
       "    </tr>\n",
       "  </tbody>\n",
       "</table>\n",
       "</div>"
      ],
      "text/plain": [
       "                  High         Low        Open       Close     Volume  \\\n",
       "Date                                                                    \n",
       "2020-01-03  123.529999  121.860001  122.160004  122.580002  7970500.0   \n",
       "2020-01-06  123.190002  122.379997  122.570000  122.750000  6674400.0   \n",
       "2020-01-07  123.209999  121.870003  122.879997  121.989998  7583400.0   \n",
       "2020-01-08  123.430000  122.000000  122.190002  122.510002  5385100.0   \n",
       "2020-01-09  123.879997  122.510002  122.510002  123.849998  5944000.0   \n",
       "\n",
       "             Adj Close  \n",
       "Date                    \n",
       "2020-01-03  122.580002  \n",
       "2020-01-06  122.750000  \n",
       "2020-01-07  121.989998  \n",
       "2020-01-08  122.510002  \n",
       "2020-01-09  123.849998  "
      ]
     },
     "execution_count": 4,
     "metadata": {},
     "output_type": "execute_result"
    }
   ],
   "source": [
    "PG.tail()"
   ]
  },
  {
   "cell_type": "markdown",
   "metadata": {
    "collapsed": true
   },
   "source": [
    "## Simple Rate of Return"
   ]
  },
  {
   "cell_type": "markdown",
   "metadata": {},
   "source": [
    "$$\n",
    "\\frac{P_1 - P_0}{P_0} = \\frac{P_1}{P_0} - 1\n",
    "$$"
   ]
  },
  {
   "cell_type": "code",
   "execution_count": 5,
   "metadata": {},
   "outputs": [
    {
     "name": "stdout",
     "output_type": "stream",
     "text": [
      "Date\n",
      "2014-12-31         NaN\n",
      "2015-01-02   -0.007136\n",
      "2015-01-05   -0.004755\n",
      "2015-01-06   -0.004555\n",
      "2015-01-07    0.005246\n",
      "2015-01-08    0.011436\n",
      "2015-01-09   -0.009330\n",
      "2015-01-12   -0.003657\n",
      "2015-01-13    0.004226\n",
      "2015-01-14   -0.003433\n",
      "2015-01-15   -0.001445\n",
      "2015-01-16    0.015468\n",
      "2015-01-20   -0.000658\n",
      "2015-01-21   -0.005044\n",
      "2015-01-22    0.009809\n",
      "2015-01-23   -0.016809\n",
      "2015-01-26   -0.005551\n",
      "2015-01-27   -0.034494\n",
      "2015-01-28   -0.015493\n",
      "2015-01-29    0.006107\n",
      "2015-01-30   -0.016108\n",
      "2015-02-02    0.009847\n",
      "2015-02-03    0.009751\n",
      "2015-02-04   -0.001862\n",
      "2015-02-05    0.010607\n",
      "2015-02-06   -0.012572\n",
      "2015-02-09   -0.006541\n",
      "2015-02-10    0.003998\n",
      "2015-02-11    0.002928\n",
      "2015-02-12    0.004554\n",
      "                ...   \n",
      "2019-11-26    0.014522\n",
      "2019-11-27   -0.004090\n",
      "2019-11-29    0.002464\n",
      "2019-12-02    0.005407\n",
      "2019-12-03    0.001874\n",
      "2019-12-04    0.012851\n",
      "2019-12-05    0.000723\n",
      "2019-12-06   -0.003450\n",
      "2019-12-09    0.005475\n",
      "2019-12-10   -0.004805\n",
      "2019-12-11    0.003138\n",
      "2019-12-12   -0.000722\n",
      "2019-12-13    0.007225\n",
      "2019-12-16    0.000717\n",
      "2019-12-17   -0.001991\n",
      "2019-12-18   -0.010374\n",
      "2019-12-19    0.007338\n",
      "2019-12-20    0.003522\n",
      "2019-12-23   -0.003669\n",
      "2019-12-24    0.002562\n",
      "2019-12-26    0.000000\n",
      "2019-12-27    0.006948\n",
      "2019-12-30   -0.012848\n",
      "2019-12-31    0.003455\n",
      "2020-01-02   -0.011930\n",
      "2020-01-03   -0.006726\n",
      "2020-01-06    0.001387\n",
      "2020-01-07   -0.006191\n",
      "2020-01-08    0.004263\n",
      "2020-01-09    0.010938\n",
      "Name: simple_return, Length: 1265, dtype: float64\n"
     ]
    }
   ],
   "source": [
    "PG['simple_return'] = (PG['Close'] / PG['Close'].shift(1)) - 1\n",
    "print (PG['simple_return'])"
   ]
  },
  {
   "cell_type": "code",
   "execution_count": 6,
   "metadata": {},
   "outputs": [
    {
     "data": {
      "image/png": "[encoded data removed]",
      "text/plain": [
       "<Figure size 576x360 with 1 Axes>"
      ]
     },
     "metadata": {
      "needs_background": "light"
     },
     "output_type": "display_data"
    }
   ],
   "source": [
    "PG['simple_return'].plot(figsize=(8, 5))\n",
    "plt.show()"
   ]
  },
  {
   "cell_type": "code",
   "execution_count": 7,
   "metadata": {},
   "outputs": [
    {
     "data": {
      "text/plain": [
       "0.00029253692740509747"
      ]
     },
     "execution_count": 7,
     "metadata": {},
     "output_type": "execute_result"
    }
   ],
   "source": [
    "avg_returns_d = PG['simple_return'].mean()\n",
    "avg_returns_d"
   ]
  },
  {
   "cell_type": "code",
   "execution_count": 8,
   "metadata": {},
   "outputs": [
    {
     "data": {
      "text/plain": [
       "0.07313423185127436"
      ]
     },
     "execution_count": 8,
     "metadata": {},
     "output_type": "execute_result"
    }
   ],
   "source": [
    "avg_returns_a = PG['simple_return'].mean() * 250\n",
    "avg_returns_a"
   ]
  },
  {
   "cell_type": "code",
   "execution_count": 9,
   "metadata": {},
   "outputs": [
    {
     "name": "stdout",
     "output_type": "stream",
     "text": [
      "7.313 %\n"
     ]
    }
   ],
   "source": [
    "print (str(round(avg_returns_a, 5) * 100) + ' %')"
   ]
  },
  {
   "cell_type": "markdown",
   "metadata": {},
   "source": [
    "## Log Returns"
   ]
  },
  {
   "cell_type": "markdown",
   "metadata": {},
   "source": [
    "$$\n",
    "ln(\\frac{P_t}{P_{t-1}})\n",
    "$$"
   ]
  },
  {
   "cell_type": "code",
   "execution_count": 10,
   "metadata": {},
   "outputs": [
    {
     "data": {
      "text/html": [
       "<div>\n",
       "<style scoped>\n",
       "    .dataframe tbody tr th:only-of-type {\n",
       "        vertical-align: middle;\n",
       "    }\n",
       "\n",
       "    .dataframe tbody tr th {\n",
       "        vertical-align: top;\n",
       "    }\n",
       "\n",
       "    .dataframe thead th {\n",
       "        text-align: right;\n",
       "    }\n",
       "</style>\n",
       "<table border=\"1\" class=\"dataframe\">\n",
       "  <thead>\n",
       "    <tr style=\"text-align: right;\">\n",
       "      <th></th>\n",
       "      <th>High</th>\n",
       "      <th>Low</th>\n",
       "      <th>Open</th>\n",
       "      <th>Close</th>\n",
       "      <th>Volume</th>\n",
       "      <th>Adj Close</th>\n",
       "      <th>simple_return</th>\n",
       "    </tr>\n",
       "    <tr>\n",
       "      <th>Date</th>\n",
       "      <th></th>\n",
       "      <th></th>\n",
       "      <th></th>\n",
       "      <th></th>\n",
       "      <th></th>\n",
       "      <th></th>\n",
       "      <th></th>\n",
       "    </tr>\n",
       "  </thead>\n",
       "  <tbody>\n",
       "    <tr>\n",
       "      <th>2014-12-31</th>\n",
       "      <td>92.550003</td>\n",
       "      <td>91.029999</td>\n",
       "      <td>92.040001</td>\n",
       "      <td>91.089996</td>\n",
       "      <td>5712100.0</td>\n",
       "      <td>77.802925</td>\n",
       "      <td>NaN</td>\n",
       "    </tr>\n",
       "    <tr>\n",
       "      <th>2015-01-02</th>\n",
       "      <td>91.000000</td>\n",
       "      <td>89.919998</td>\n",
       "      <td>90.839996</td>\n",
       "      <td>90.440002</td>\n",
       "      <td>7251400.0</td>\n",
       "      <td>77.247726</td>\n",
       "      <td>-0.007136</td>\n",
       "    </tr>\n",
       "    <tr>\n",
       "      <th>2015-01-05</th>\n",
       "      <td>91.000000</td>\n",
       "      <td>89.849998</td>\n",
       "      <td>90.230003</td>\n",
       "      <td>90.010002</td>\n",
       "      <td>8626100.0</td>\n",
       "      <td>76.880455</td>\n",
       "      <td>-0.004755</td>\n",
       "    </tr>\n",
       "    <tr>\n",
       "      <th>2015-01-06</th>\n",
       "      <td>90.559998</td>\n",
       "      <td>89.260002</td>\n",
       "      <td>90.309998</td>\n",
       "      <td>89.599998</td>\n",
       "      <td>7791200.0</td>\n",
       "      <td>76.530251</td>\n",
       "      <td>-0.004555</td>\n",
       "    </tr>\n",
       "    <tr>\n",
       "      <th>2015-01-07</th>\n",
       "      <td>90.370003</td>\n",
       "      <td>89.559998</td>\n",
       "      <td>89.940002</td>\n",
       "      <td>90.070000</td>\n",
       "      <td>5986600.0</td>\n",
       "      <td>76.931709</td>\n",
       "      <td>0.005246</td>\n",
       "    </tr>\n",
       "  </tbody>\n",
       "</table>\n",
       "</div>"
      ],
      "text/plain": [
       "                 High        Low       Open      Close     Volume  Adj Close  \\\n",
       "Date                                                                           \n",
       "2014-12-31  92.550003  91.029999  92.040001  91.089996  5712100.0  77.802925   \n",
       "2015-01-02  91.000000  89.919998  90.839996  90.440002  7251400.0  77.247726   \n",
       "2015-01-05  91.000000  89.849998  90.230003  90.010002  8626100.0  76.880455   \n",
       "2015-01-06  90.559998  89.260002  90.309998  89.599998  7791200.0  76.530251   \n",
       "2015-01-07  90.370003  89.559998  89.940002  90.070000  5986600.0  76.931709   \n",
       "\n",
       "            simple_return  \n",
       "Date                       \n",
       "2014-12-31            NaN  \n",
       "2015-01-02      -0.007136  \n",
       "2015-01-05      -0.004755  \n",
       "2015-01-06      -0.004555  \n",
       "2015-01-07       0.005246  "
      ]
     },
     "execution_count": 10,
     "metadata": {},
     "output_type": "execute_result"
    }
   ],
   "source": [
    "PG.head()"
   ]
  },
  {
   "cell_type": "code",
   "execution_count": 12,
   "metadata": {},
   "outputs": [
    {
     "name": "stdout",
     "output_type": "stream",
     "text": [
      "Date\n",
      "2014-12-31         NaN\n",
      "2015-01-02   -0.007161\n",
      "2015-01-05   -0.004766\n",
      "2015-01-06   -0.004565\n",
      "2015-01-07    0.005232\n",
      "2015-01-08    0.011371\n",
      "2015-01-09   -0.009374\n",
      "2015-01-12   -0.003663\n",
      "2015-01-13    0.004217\n",
      "2015-01-14   -0.003439\n",
      "2015-01-15   -0.001446\n",
      "2015-01-16    0.015350\n",
      "2015-01-20   -0.000658\n",
      "2015-01-21   -0.005057\n",
      "2015-01-22    0.009762\n",
      "2015-01-23   -0.016951\n",
      "2015-01-26   -0.005566\n",
      "2015-01-27   -0.035103\n",
      "2015-01-28   -0.015614\n",
      "2015-01-29    0.006088\n",
      "2015-01-30   -0.016239\n",
      "2015-02-02    0.009799\n",
      "2015-02-03    0.009704\n",
      "2015-02-04   -0.001863\n",
      "2015-02-05    0.010551\n",
      "2015-02-06   -0.012652\n",
      "2015-02-09   -0.006563\n",
      "2015-02-10    0.003990\n",
      "2015-02-11    0.002923\n",
      "2015-02-12    0.004544\n",
      "                ...   \n",
      "2019-11-26    0.014417\n",
      "2019-11-27   -0.004098\n",
      "2019-11-29    0.002461\n",
      "2019-12-02    0.005393\n",
      "2019-12-03    0.001872\n",
      "2019-12-04    0.012769\n",
      "2019-12-05    0.000722\n",
      "2019-12-06   -0.003456\n",
      "2019-12-09    0.005461\n",
      "2019-12-10   -0.004817\n",
      "2019-12-11    0.003133\n",
      "2019-12-12   -0.000722\n",
      "2019-12-13    0.007199\n",
      "2019-12-16    0.000717\n",
      "2019-12-17   -0.001993\n",
      "2019-12-18   -0.010428\n",
      "2019-12-19    0.007311\n",
      "2019-12-20    0.003516\n",
      "2019-12-23   -0.003676\n",
      "2019-12-24    0.002559\n",
      "2019-12-26    0.000000\n",
      "2019-12-27    0.006924\n",
      "2019-12-30   -0.012931\n",
      "2019-12-31    0.003449\n",
      "2020-01-02   -0.012001\n",
      "2020-01-03   -0.006748\n",
      "2020-01-06    0.001386\n",
      "2020-01-07   -0.006211\n",
      "2020-01-08    0.004254\n",
      "2020-01-09    0.010878\n",
      "Name: log_return, Length: 1265, dtype: float64\n"
     ]
    }
   ],
   "source": [
    "PG['log_return'] = np.log(PG['Close'] / PG['Close'].shift(1))\n",
    "print (PG['log_return'])"
   ]
  },
  {
   "cell_type": "code",
   "execution_count": 13,
   "metadata": {},
   "outputs": [
    {
     "data": {
      "image/png": "[encoded data removed]",
      "text/plain": [
       "<Figure size 576x360 with 1 Axes>"
      ]
     },
     "metadata": {
      "needs_background": "light"
     },
     "output_type": "display_data"
    }
   ],
   "source": [
    "PG['log_return'].plot(figsize=(8, 5))\n",
    "plt.show()"
   ]
  },
  {
   "cell_type": "code",
   "execution_count": 14,
   "metadata": {},
   "outputs": [
    {
     "data": {
      "text/plain": [
       "0.0002430562935612917"
      ]
     },
     "execution_count": 14,
     "metadata": {},
     "output_type": "execute_result"
    }
   ],
   "source": [
    "log_return_d = PG['log_return'].mean()\n",
    "log_return_d"
   ]
  },
  {
   "cell_type": "code",
   "execution_count": 15,
   "metadata": {},
   "outputs": [
    {
     "data": {
      "text/plain": [
       "0.06076407339032292"
      ]
     },
     "execution_count": 15,
     "metadata": {},
     "output_type": "execute_result"
    }
   ],
   "source": [
    "log_return_a = PG['log_return'].mean() * 250\n",
    "log_return_a"
   ]
  },
  {
   "cell_type": "code",
   "execution_count": 16,
   "metadata": {},
   "outputs": [
    {
     "name": "stdout",
     "output_type": "stream",
     "text": [
      "6.0760000000000005 %\n"
     ]
    }
   ],
   "source": [
    "print (str(round(log_return_a, 5) * 100) + ' %')"
   ]
  },
  {
   "cell_type": "code",
   "execution_count": null,
   "metadata": {},
   "outputs": [],
   "source": []
  }
 ],
 "metadata": {
  "kernelspec": {
   "display_name": "Python 3",
   "language": "python",
   "name": "python3"
  },
  "language_info": {
   "codemirror_mode": {
    "name": "ipython",
    "version": 3
   },
   "file_extension": ".py",
   "mimetype": "text/x-python",
   "name": "python",
   "nbconvert_exporter": "python",
   "pygments_lexer": "ipython3",
   "version": "3.7.0"
  }
 },
 "nbformat": 4,
 "nbformat_minor": 2
}
