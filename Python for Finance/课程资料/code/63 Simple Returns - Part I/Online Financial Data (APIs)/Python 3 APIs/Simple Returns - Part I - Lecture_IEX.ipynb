{
 "cells": [
  {
   "cell_type": "code",
   "execution_count": 1,
   "metadata": {},
   "outputs": [],
   "source": [
    "import numpy as np\n",
    "from pandas_datareader import data as wb\n",
    "import matplotlib.pyplot as plt"
   ]
  },
  {
   "cell_type": "code",
   "execution_count": 3,
   "metadata": {},
   "outputs": [],
   "source": [
    "PG = wb.DataReader('PG', data_source='yahoo', start='2015-1-1')"
   ]
  },
  {
   "cell_type": "code",
   "execution_count": 4,
   "metadata": {},
   "outputs": [
    {
     "data": {
      "text/html": [
       "<div>\n",
       "<style scoped>\n",
       "    .dataframe tbody tr th:only-of-type {\n",
       "        vertical-align: middle;\n",
       "    }\n",
       "\n",
       "    .dataframe tbody tr th {\n",
       "        vertical-align: top;\n",
       "    }\n",
       "\n",
       "    .dataframe thead th {\n",
       "        text-align: right;\n",
       "    }\n",
       "</style>\n",
       "<table border=\"1\" class=\"dataframe\">\n",
       "  <thead>\n",
       "    <tr style=\"text-align: right;\">\n",
       "      <th></th>\n",
       "      <th>High</th>\n",
       "      <th>Low</th>\n",
       "      <th>Open</th>\n",
       "      <th>Close</th>\n",
       "      <th>Volume</th>\n",
       "      <th>Adj Close</th>\n",
       "    </tr>\n",
       "    <tr>\n",
       "      <th>Date</th>\n",
       "      <th></th>\n",
       "      <th></th>\n",
       "      <th></th>\n",
       "      <th></th>\n",
       "      <th></th>\n",
       "      <th></th>\n",
       "    </tr>\n",
       "  </thead>\n",
       "  <tbody>\n",
       "    <tr>\n",
       "      <th>2014-12-31</th>\n",
       "      <td>92.550003</td>\n",
       "      <td>91.029999</td>\n",
       "      <td>92.040001</td>\n",
       "      <td>91.089996</td>\n",
       "      <td>5712100.0</td>\n",
       "      <td>77.802925</td>\n",
       "    </tr>\n",
       "    <tr>\n",
       "      <th>2015-01-02</th>\n",
       "      <td>91.000000</td>\n",
       "      <td>89.919998</td>\n",
       "      <td>90.839996</td>\n",
       "      <td>90.440002</td>\n",
       "      <td>7251400.0</td>\n",
       "      <td>77.247726</td>\n",
       "    </tr>\n",
       "    <tr>\n",
       "      <th>2015-01-05</th>\n",
       "      <td>91.000000</td>\n",
       "      <td>89.849998</td>\n",
       "      <td>90.230003</td>\n",
       "      <td>90.010002</td>\n",
       "      <td>8626100.0</td>\n",
       "      <td>76.880455</td>\n",
       "    </tr>\n",
       "    <tr>\n",
       "      <th>2015-01-06</th>\n",
       "      <td>90.559998</td>\n",
       "      <td>89.260002</td>\n",
       "      <td>90.309998</td>\n",
       "      <td>89.599998</td>\n",
       "      <td>7791200.0</td>\n",
       "      <td>76.530251</td>\n",
       "    </tr>\n",
       "    <tr>\n",
       "      <th>2015-01-07</th>\n",
       "      <td>90.370003</td>\n",
       "      <td>89.559998</td>\n",
       "      <td>89.940002</td>\n",
       "      <td>90.070000</td>\n",
       "      <td>5986600.0</td>\n",
       "      <td>76.931709</td>\n",
       "    </tr>\n",
       "  </tbody>\n",
       "</table>\n",
       "</div>"
      ],
      "text/plain": [
       "                 High        Low       Open      Close     Volume  Adj Close\n",
       "Date                                                                        \n",
       "2014-12-31  92.550003  91.029999  92.040001  91.089996  5712100.0  77.802925\n",
       "2015-01-02  91.000000  89.919998  90.839996  90.440002  7251400.0  77.247726\n",
       "2015-01-05  91.000000  89.849998  90.230003  90.010002  8626100.0  76.880455\n",
       "2015-01-06  90.559998  89.260002  90.309998  89.599998  7791200.0  76.530251\n",
       "2015-01-07  90.370003  89.559998  89.940002  90.070000  5986600.0  76.931709"
      ]
     },
     "execution_count": 4,
     "metadata": {},
     "output_type": "execute_result"
    }
   ],
   "source": [
    "PG.head()"
   ]
  },
  {
   "cell_type": "code",
   "execution_count": 5,
   "metadata": {},
   "outputs": [
    {
     "data": {
      "text/html": [
       "<div>\n",
       "<style scoped>\n",
       "    .dataframe tbody tr th:only-of-type {\n",
       "        vertical-align: middle;\n",
       "    }\n",
       "\n",
       "    .dataframe tbody tr th {\n",
       "        vertical-align: top;\n",
       "    }\n",
       "\n",
       "    .dataframe thead th {\n",
       "        text-align: right;\n",
       "    }\n",
       "</style>\n",
       "<table border=\"1\" class=\"dataframe\">\n",
       "  <thead>\n",
       "    <tr style=\"text-align: right;\">\n",
       "      <th></th>\n",
       "      <th>High</th>\n",
       "      <th>Low</th>\n",
       "      <th>Open</th>\n",
       "      <th>Close</th>\n",
       "      <th>Volume</th>\n",
       "      <th>Adj Close</th>\n",
       "    </tr>\n",
       "    <tr>\n",
       "      <th>Date</th>\n",
       "      <th></th>\n",
       "      <th></th>\n",
       "      <th></th>\n",
       "      <th></th>\n",
       "      <th></th>\n",
       "      <th></th>\n",
       "    </tr>\n",
       "  </thead>\n",
       "  <tbody>\n",
       "    <tr>\n",
       "      <th>2020-01-03</th>\n",
       "      <td>123.529999</td>\n",
       "      <td>121.860001</td>\n",
       "      <td>122.160004</td>\n",
       "      <td>122.580002</td>\n",
       "      <td>7970500.0</td>\n",
       "      <td>122.580002</td>\n",
       "    </tr>\n",
       "    <tr>\n",
       "      <th>2020-01-06</th>\n",
       "      <td>123.190002</td>\n",
       "      <td>122.379997</td>\n",
       "      <td>122.570000</td>\n",
       "      <td>122.750000</td>\n",
       "      <td>6674400.0</td>\n",
       "      <td>122.750000</td>\n",
       "    </tr>\n",
       "    <tr>\n",
       "      <th>2020-01-07</th>\n",
       "      <td>123.209999</td>\n",
       "      <td>121.870003</td>\n",
       "      <td>122.879997</td>\n",
       "      <td>121.989998</td>\n",
       "      <td>7583400.0</td>\n",
       "      <td>121.989998</td>\n",
       "    </tr>\n",
       "    <tr>\n",
       "      <th>2020-01-08</th>\n",
       "      <td>123.430000</td>\n",
       "      <td>122.000000</td>\n",
       "      <td>122.190002</td>\n",
       "      <td>122.510002</td>\n",
       "      <td>5385100.0</td>\n",
       "      <td>122.510002</td>\n",
       "    </tr>\n",
       "    <tr>\n",
       "      <th>2020-01-09</th>\n",
       "      <td>123.879997</td>\n",
       "      <td>122.510002</td>\n",
       "      <td>122.510002</td>\n",
       "      <td>123.849998</td>\n",
       "      <td>5944000.0</td>\n",
       "      <td>123.849998</td>\n",
       "    </tr>\n",
       "  </tbody>\n",
       "</table>\n",
       "</div>"
      ],
      "text/plain": [
       "                  High         Low        Open       Close     Volume  \\\n",
       "Date                                                                    \n",
       "2020-01-03  123.529999  121.860001  122.160004  122.580002  7970500.0   \n",
       "2020-01-06  123.190002  122.379997  122.570000  122.750000  6674400.0   \n",
       "2020-01-07  123.209999  121.870003  122.879997  121.989998  7583400.0   \n",
       "2020-01-08  123.430000  122.000000  122.190002  122.510002  5385100.0   \n",
       "2020-01-09  123.879997  122.510002  122.510002  123.849998  5944000.0   \n",
       "\n",
       "             Adj Close  \n",
       "Date                    \n",
       "2020-01-03  122.580002  \n",
       "2020-01-06  122.750000  \n",
       "2020-01-07  121.989998  \n",
       "2020-01-08  122.510002  \n",
       "2020-01-09  123.849998  "
      ]
     },
     "execution_count": 5,
     "metadata": {},
     "output_type": "execute_result"
    }
   ],
   "source": [
    "PG.tail()"
   ]
  },
  {
   "cell_type": "markdown",
   "metadata": {},
   "source": [
    "## Simple Rate of Return"
   ]
  },
  {
   "cell_type": "markdown",
   "metadata": {},
   "source": [
    "$$\n",
    "\\frac{P_1 - P_0}{P_0} = \\frac{P_1}{P_0} - 1\n",
    "$$"
   ]
  },
  {
   "cell_type": "code",
   "execution_count": null,
   "metadata": {},
   "outputs": [],
   "source": [
    "PG['simple_return'] = (PG['close'] / PG['close'].shift(1)) - 1\n",
    "print (PG['simple_return'])"
   ]
  }
 ],
 "metadata": {
  "kernelspec": {
   "display_name": "Python 3",
   "language": "python",
   "name": "python3"
  },
  "language_info": {
   "codemirror_mode": {
    "name": "ipython",
    "version": 3
   },
   "file_extension": ".py",
   "mimetype": "text/x-python",
   "name": "python",
   "nbconvert_exporter": "python",
   "pygments_lexer": "ipython3",
   "version": "3.7.0"
  }
 },
 "nbformat": 4,
 "nbformat_minor": 2
}
